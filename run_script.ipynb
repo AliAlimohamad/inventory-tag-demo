{
 "cells": [
  {
   "cell_type": "code",
   "execution_count": null,
   "metadata": {
    "vscode": {
     "languageId": "plaintext"
    }
   },
   "outputs": [],
   "source": [
    "!pip install opencv-python numpy pillow pixels2svg moms_apriltag"
   ]
  },
  {
   "cell_type": "code",
   "execution_count": null,
   "metadata": {
    "vscode": {
     "languageId": "plaintext"
    }
   },
   "outputs": [],
   "source": [
    "import inventory_tag_sample_svg\n",
    "\n",
    "# Run the function\n",
    "tag_id_inv = 2\n",
    "img = inventory_tag_sample_svg.generate_tag_pair(tag_id_inv)\n",
    "\n",
    "# Show output\n",
    "img.show()\n"
   ]
  }
 ],
 "metadata": {
  "language_info": {
   "name": "python"
  }
 },
 "nbformat": 4,
 "nbformat_minor": 2
}
