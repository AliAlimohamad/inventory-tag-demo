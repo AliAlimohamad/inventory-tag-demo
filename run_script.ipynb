{
    "cells": [
        {
            "cell_type": "code",
            "execution_count": null,
            "metadata": {
                "colab": {
                    "base_uri": "https://localhost",
                    "height": 150
                },
                "id": "install-dependencies"
            },
            "outputs": [],
            "source": [
                "# 📦 Install required dependencies (if not already installed)\n",
                "!pip install opencv-python numpy pillow pixels2svg moms_apriltag"
            ]
        },
        {
            "cell_type": "code",
            "execution_count": null,
            "metadata": {
                "id": "import-script"
            },
            "outputs": [],
            "source": [
                "# 📥 Import the inventory tag generator script\n",
                "from inventory_tag_sample_svg import generate_tag_pair\n",
                "from IPython.display import display"
            ]
        },
        {
            "cell_type": "code",
            "execution_count": null,
            "metadata": {
                "id": "user-input"
            },
            "outputs": [],
            "source": [
                "# 🔢 Ask user for an inventory tag ID\n",
                "tag_id = int(input(\"Enter an inventory tag ID (0 - 103030110): \"))\n",
                "\n",
                "# Generate and display the SVG tag\n",
                "img = generate_tag_pair(tag_id)\n",
                "display(img)"
            ]
        }
    ],
    "metadata": {
        "kernelspec": {
            "display_name": "Python 3",
            "language": "python",
            "name": "python3"
        },
        "language_info": {
            "codemirror_mode": {
                "name": "ipython",
                "version": 3
            },
            "file_extension": ".py",
            "mimetype": "text/x-python",
            "name": "python",
            "nbconvert_exporter": "python",
            "pygments_lexer": "ipython3",
            "version": "3.8.10"
        }
    },
    "nbformat": 4,
    "nbformat_minor": 4
}
